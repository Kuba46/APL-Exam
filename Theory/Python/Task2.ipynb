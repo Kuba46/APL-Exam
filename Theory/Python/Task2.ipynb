{
 "cells": [
  {
   "cell_type": "markdown",
   "metadata": {},
   "source": [
    "# Вопрос №2. Основные типы данных. Списки, срезы, множества, словари.\n",
    "Основные типы данных\n",
    "1. Числа (Numbers):\n",
    "Целые числа (int): Представляют целые числа, например, `42`, `-7`.\n",
    "Числа с плавающей точкой (float): Представляют числа с дробной частью, например, `3.14`, `-0.001`.\n",
    "Комплексные числа (complex): Представляют числа с мнимой частью, например, `1 + 2j`.\n",
    "\n",
    "2. Строки (Strings): Представляют последовательности символов, заключённые в одинарные (`'`) или двойные (`\"`) кавычки, например, `\"Hello, World!\"`.\n",
    "\n",
    "3. Списки (Lists): Упорядоченные изменяемые коллекции элементов, которые могут быть разных типов. Списки заключаются в квадратные скобки, например, `[1, 2, 3, \"four\"]`.\n",
    "\n",
    "4. Кортежи (Tuples): Упорядоченные неизменяемые коллекции элементов. Кортежи заключаются в круглые скобки, например, `(1, 2, 3, \"four\")`.\n",
    "\n",
    "5. Множества (Sets): Неупорядоченные коллекции уникальных элементов. Множества заключаются в фигурные скобки, например, `{1, 2, 3, 4}`.\n",
    "\n",
    "6. Словари (Dictionaries): Неупорядоченные коллекции пар \"ключ-значение\". Словари заключаются в фигурные скобки, например, `{\"name\": \"Alice\", \"age\": 25}`."
   ]
  },
  {
   "cell_type": "code",
   "execution_count": 1,
   "metadata": {},
   "outputs": [
    {
     "name": "stdout",
     "output_type": "stream",
     "text": [
      "[1, 2, 3, 4, 5]\n",
      "1\n",
      "[1, 10, 3, 4, 5]\n",
      "[1, 10, 3, 4, 5, 6]\n",
      "[1, 10, 4, 5, 6]\n"
     ]
    }
   ],
   "source": [
    "### Списки (Lists). Списки в Python — это упорядоченные изменяемые коллекции элементов. Основные операции со списками:\n",
    "\n",
    "my_list = [1, 2, 3, 4, 5] # Создание списка\n",
    "print(my_list)\n",
    "\n",
    "first_element = my_list[0]  # Взятие 1 элемента\n",
    "print(first_element)\n",
    "\n",
    "my_list[1] = 10  # Изменение элементов. my_list становится [1, 10, 3, 4, 5], 2-ой элемент равняется 10\n",
    "print(my_list)\n",
    "\n",
    "my_list.append(6)  # Добавление элементов. my_list теперь [1, 10, 3, 4, 5, 6]\n",
    "print(my_list)\n",
    "\n",
    "my_list.remove(3)  # Удаление элементов. [1, 10, 4, 5, 6]\n",
    "print(my_list)"
   ]
  },
  {
   "cell_type": "code",
   "execution_count": 2,
   "metadata": {},
   "outputs": [
    {
     "name": "stdout",
     "output_type": "stream",
     "text": [
      "[10, 4, 5]\n",
      "[1, 4, 6]\n",
      "[1, 10, 4, 5, 6]\n"
     ]
    }
   ],
   "source": [
    "### Срезы (Slicing). Срезы позволяют извлекать подмножества элементов из последовательностей, таких как списки, строки и кортежи. Основной синтаксис срезов:\n",
    "\n",
    "sub_list = my_list[1:4]  # Извлечение подмножества.[10, 4, 5]\n",
    "print(sub_list)\n",
    "\n",
    "sub_list = my_list[::2]  # Извлечение элементов с шагом. [1, 4, 6]\n",
    "print(sub_list)\n",
    "\n",
    "sub_list = my_list[:]  # Извлечение элементов с начала до конца. [1, 10, 4, 5, 6]\n",
    "print(sub_list)\n"
   ]
  },
  {
   "cell_type": "code",
   "execution_count": 3,
   "metadata": {},
   "outputs": [
    {
     "name": "stdout",
     "output_type": "stream",
     "text": [
      "{1, 2, 3, 4, 5}\n",
      "{1, 2, 3, 4, 5, 6}\n",
      "{1, 2, 4, 5, 6}\n"
     ]
    }
   ],
   "source": [
    "### Множества (Sets). Множества — это неупорядоченные коллекции уникальных элементов. Основные операции с множествами:\n",
    "\n",
    "my_set = {1, 2, 3, 4, 5} # Инициализируем множество\n",
    "print(my_set)\n",
    "\n",
    "my_set.add(6)  # Добавляем элемент. {1, 2, 3, 4, 5, 6}\n",
    "print(my_set)\n",
    "\n",
    "my_set.remove(3)  # Удаление элемента. {1, 2, 4, 5, 6}\n",
    "print(my_set)"
   ]
  },
  {
   "cell_type": "code",
   "execution_count": 4,
   "metadata": {},
   "outputs": [
    {
     "name": "stdout",
     "output_type": "stream",
     "text": [
      "{1, 2, 4, 5, 6, 7}\n",
      "{4, 5, 6}\n"
     ]
    }
   ],
   "source": [
    "#Операции с множествами:\n",
    "\n",
    "other_set = {4, 5, 6, 7}\n",
    "union_set = my_set.union(other_set)  # {1, 2, 4, 5, 6, 7}\n",
    "print(union_set)\n",
    "\n",
    "intersection_set = my_set.intersection(other_set)  # {4, 5, 6}\n",
    "print(intersection_set)"
   ]
  },
  {
   "cell_type": "code",
   "execution_count": 5,
   "metadata": {},
   "outputs": [
    {
     "name": "stdout",
     "output_type": "stream",
     "text": [
      "{'name': 'Alice', 'age': 25}\n",
      "{'name': 'Alice', 'age': 25}\n",
      "{'name': 'Alice', 'age': 26}\n",
      "{'name': 'Alice', 'age': 26, 'city': 'New York'}\n",
      "{'name': 'Alice', 'city': 'New York'}\n"
     ]
    }
   ],
   "source": [
    "### Словари (Dictionaries). Словари — это неупорядоченные коллекции пар \"ключ-значение\". Основные операции со словарями:\n",
    "\n",
    "my_dict = {\"name\": \"Alice\", \"age\": 25} # Инициализируем словарь.\n",
    "print(my_dict)\n",
    "\n",
    "name = my_dict[\"name\"]  # \"Alice\"\n",
    "print(my_dict)\n",
    "\n",
    "my_dict[\"age\"] = 26  # my_dict теперь {\"name\": \"Alice\", \"age\": 26}\n",
    "print(my_dict)\n",
    "\n",
    "my_dict[\"city\"] = \"New York\"  # my_dict теперь {\"name\": \"Alice\", \"age\": 26, \"city\": \"New York\"}\n",
    "print(my_dict)\n",
    "\n",
    "del my_dict[\"age\"]  # {\"name\": \"Alice\", \"city\": \"New York\"}\n",
    "print(my_dict)"
   ]
  }
 ],
 "metadata": {
  "kernelspec": {
   "display_name": "Python 3",
   "language": "python",
   "name": "python3"
  },
  "language_info": {
   "codemirror_mode": {
    "name": "ipython",
    "version": 3
   },
   "file_extension": ".py",
   "mimetype": "text/x-python",
   "name": "python",
   "nbconvert_exporter": "python",
   "pygments_lexer": "ipython3",
   "version": "3.12.6"
  }
 },
 "nbformat": 4,
 "nbformat_minor": 2
}
