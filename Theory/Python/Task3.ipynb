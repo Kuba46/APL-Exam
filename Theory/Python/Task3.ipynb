{
 "cells": [
  {
   "cell_type": "markdown",
   "metadata": {},
   "source": [
    "# Вопрос №3. Классы, поля, методы. Инкапсуляция (сокрытие). Наследование.\n",
    "В Python классы, поля, методы, инкапсуляция и наследование являются ключевыми концепциями объектно-ориентированного программирования (ООП).\n",
    "\n",
    "**Класс** — это шаблон для создания объектов. Класс определяет набор атрибутов и методов, которые будут доступны у объектов, созданных на основе этого класса.\n",
    "Определение класса:"
   ]
  },
  {
   "cell_type": "code",
   "execution_count": 1,
   "metadata": {},
   "outputs": [],
   "source": [
    "class MyClass:\n",
    "    def __init__(self, value):\n",
    "        self.value = value\n",
    "\n",
    "    def display(self):\n",
    "        print(self.value)"
   ]
  },
  {
   "cell_type": "markdown",
   "metadata": {},
   "source": [
    "**Поля (или атрибуты)** — это переменные, которые хранят состояние объекта. Поля могут быть как публичными, так и приватными.\n"
   ]
  },
  {
   "cell_type": "code",
   "execution_count": 2,
   "metadata": {},
   "outputs": [],
   "source": [
    "# Публичные поля\n",
    "class MyClass:\n",
    "    def __init__(self, value):\n",
    "         self.value = value  # Публичное поле\n",
    "\n",
    "# Приватные поля\n",
    "class MyClass:\n",
    "    def __init__(self, value):\n",
    "        self.__value = value  # Приватное поле\n"
   ]
  },
  {
   "cell_type": "markdown",
   "metadata": {},
   "source": [
    "**Методы** — это функции, определённые внутри класса, которые описывают поведение объектов этого класса."
   ]
  },
  {
   "cell_type": "code",
   "execution_count": 3,
   "metadata": {},
   "outputs": [],
   "source": [
    "class MyClass:\n",
    "    def __init__(self, value):\n",
    "        self.value = value\n",
    "\n",
    "    def display(self):\n",
    "        print(self.value)"
   ]
  },
  {
   "cell_type": "markdown",
   "metadata": {},
   "source": [
    "**Инкапсуляция** — это принцип ООП, который ограничивает доступ к некоторым компонентам объекта и предоставляет интерфейс для взаимодействия с объектом. В Python инкапсуляция достигается с помощью приватных полей и методов."
   ]
  },
  {
   "cell_type": "code",
   "execution_count": 4,
   "metadata": {},
   "outputs": [],
   "source": [
    "class MyClass:\n",
    "    def __init__(self, value):\n",
    "        self.__value = value  # Приватное поле\n",
    "\n",
    "    def __private_method(self):\n",
    "        print(\"This is a private method\")\n",
    "\n",
    "    def public_method(self):\n",
    "        self.__private_method()\n"
   ]
  },
  {
   "cell_type": "markdown",
   "metadata": {},
   "source": [
    "**Наследование** позволяет создавать новые классы на основе существующих. Новый класс (подкласс) наследует поля и методы базового класса (суперкласса)."
   ]
  },
  {
   "cell_type": "code",
   "execution_count": 5,
   "metadata": {},
   "outputs": [],
   "source": [
    "class BaseClass:\n",
    "    def __init__(self, value):\n",
    "        self.value = value\n",
    "\n",
    "    def display(self):\n",
    "        print(self.value)\n",
    "\n",
    "class DerivedClass(BaseClass):\n",
    "    def __init__(self, value, additional_value):\n",
    "        super().__init__(value)\n",
    "        self.additional_value = additional_value\n",
    "\n",
    "    def display_additional(self):\n",
    "        print(self.additional_value)"
   ]
  },
  {
   "cell_type": "code",
   "execution_count": 6,
   "metadata": {},
   "outputs": [
    {
     "name": "stdout",
     "output_type": "stream",
     "text": [
      "Name: Buddy, Age: 3, Breed: Golden Retriever\n",
      "Woof!\n"
     ]
    }
   ],
   "source": [
    "# Пример использования всех концепций\n",
    "class Animal:\n",
    "    def __init__(self, name, age):\n",
    "        self.__name = name  # Приватное поле\n",
    "        self.__age = age    # Приватное поле\n",
    "\n",
    "    def get_name(self):\n",
    "        return self.__name\n",
    "\n",
    "    def get_age(self):\n",
    "        return self.__age\n",
    "\n",
    "    def make_sound(self):\n",
    "        pass  # Метод, который будет переопределён в подклассах\n",
    "\n",
    "class Dog(Animal):\n",
    "    def __init__(self, name, age, breed):\n",
    "        super().__init__(name, age)\n",
    "        self.breed = breed  # Публичное поле\n",
    "\n",
    "    def make_sound(self):\n",
    "        return \"Woof!\"\n",
    "\n",
    "    def display_info(self):\n",
    "        print(f\"Name: {self.get_name()}, Age: {self.get_age()}, Breed: {self.breed}\")\n",
    "\n",
    "# Создание объекта класса Dog\n",
    "my_dog = Dog(\"Buddy\", 3, \"Golden Retriever\")\n",
    "my_dog.display_info()  # Name: Buddy, Age: 3, Breed: Golden Retriever\n",
    "print(my_dog.make_sound())  # Woof!"
   ]
  },
  {
   "cell_type": "markdown",
   "metadata": {},
   "source": [
    "В этом примере:\n",
    "1. Animal — базовый класс с приватными полями __name и __age.\n",
    "2. Dog — производный класс, который наследует от Animal и добавляет публичное поле breed.\n",
    "3. Метод make_sound переопределён в классе Dog.\n",
    "4. Инкапсуляция обеспечивается приватными полями и методами доступа (get_name, get_age).\n"
   ]
  }
 ],
 "metadata": {
  "kernelspec": {
   "display_name": "Python 3",
   "language": "python",
   "name": "python3"
  },
  "language_info": {
   "codemirror_mode": {
    "name": "ipython",
    "version": 3
   },
   "file_extension": ".py",
   "mimetype": "text/x-python",
   "name": "python",
   "nbconvert_exporter": "python",
   "pygments_lexer": "ipython3",
   "version": "3.12.6"
  }
 },
 "nbformat": 4,
 "nbformat_minor": 2
}
